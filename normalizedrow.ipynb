{
 "cells": [
  {
   "cell_type": "code",
   "execution_count": 2,
   "metadata": {},
   "outputs": [],
   "source": [
    "import matplotlib.pyplot as plt\n",
    "import numpy as np\n"
   ]
  },
  {
   "cell_type": "code",
   "execution_count": 3,
   "metadata": {},
   "outputs": [],
   "source": [
    "a = np.linspace(-10,10,100)"
   ]
  },
  {
   "cell_type": "code",
   "execution_count": 4,
   "metadata": {},
   "outputs": [
    {
     "data": {
      "text/plain": [
       "-7.105427357601002e-15"
      ]
     },
     "execution_count": 4,
     "metadata": {},
     "output_type": "execute_result"
    }
   ],
   "source": [
    "summ = a.sum(axis=0)\n",
    "summ"
   ]
  },
  {
   "cell_type": "code",
   "execution_count": 5,
   "metadata": {},
   "outputs": [],
   "source": [
    "normalized  = a/summ"
   ]
  },
  {
   "cell_type": "code",
   "execution_count": 6,
   "metadata": {},
   "outputs": [
    {
     "data": {
      "text/plain": [
       "array([ 1.40737488e+15,  1.37894307e+15,  1.35051125e+15,  1.32207944e+15,\n",
       "        1.29364762e+15,  1.26521580e+15,  1.23678399e+15,  1.20835217e+15,\n",
       "        1.17992036e+15,  1.15148854e+15,  1.12305673e+15,  1.09462491e+15,\n",
       "        1.06619309e+15,  1.03776128e+15,  1.00932946e+15,  9.80897646e+14,\n",
       "        9.52465830e+14,  9.24034014e+14,  8.95602199e+14,  8.67170383e+14,\n",
       "        8.38738567e+14,  8.10306751e+14,  7.81874935e+14,  7.53443119e+14,\n",
       "        7.25011304e+14,  6.96579488e+14,  6.68147672e+14,  6.39715856e+14,\n",
       "        6.11284040e+14,  5.82852225e+14,  5.54420409e+14,  5.25988593e+14,\n",
       "        4.97556777e+14,  4.69124961e+14,  4.40693145e+14,  4.12261330e+14,\n",
       "        3.83829514e+14,  3.55397698e+14,  3.26965882e+14,  2.98534066e+14,\n",
       "        2.70102250e+14,  2.41670435e+14,  2.13238619e+14,  1.84806803e+14,\n",
       "        1.56374987e+14,  1.27943171e+14,  9.95113554e+13,  7.10795396e+13,\n",
       "        4.26477237e+13,  1.42159079e+13, -1.42159079e+13, -4.26477237e+13,\n",
       "       -7.10795396e+13, -9.95113554e+13, -1.27943171e+14, -1.56374987e+14,\n",
       "       -1.84806803e+14, -2.13238619e+14, -2.41670435e+14, -2.70102250e+14,\n",
       "       -2.98534066e+14, -3.26965882e+14, -3.55397698e+14, -3.83829514e+14,\n",
       "       -4.12261330e+14, -4.40693145e+14, -4.69124961e+14, -4.97556777e+14,\n",
       "       -5.25988593e+14, -5.54420409e+14, -5.82852225e+14, -6.11284040e+14,\n",
       "       -6.39715856e+14, -6.68147672e+14, -6.96579488e+14, -7.25011304e+14,\n",
       "       -7.53443119e+14, -7.81874935e+14, -8.10306751e+14, -8.38738567e+14,\n",
       "       -8.67170383e+14, -8.95602199e+14, -9.24034014e+14, -9.52465830e+14,\n",
       "       -9.80897646e+14, -1.00932946e+15, -1.03776128e+15, -1.06619309e+15,\n",
       "       -1.09462491e+15, -1.12305673e+15, -1.15148854e+15, -1.17992036e+15,\n",
       "       -1.20835217e+15, -1.23678399e+15, -1.26521580e+15, -1.29364762e+15,\n",
       "       -1.32207944e+15, -1.35051125e+15, -1.37894307e+15, -1.40737488e+15])"
      ]
     },
     "execution_count": 6,
     "metadata": {},
     "output_type": "execute_result"
    }
   ],
   "source": [
    "normalized"
   ]
  },
  {
   "cell_type": "code",
   "execution_count": 7,
   "metadata": {},
   "outputs": [
    {
     "data": {
      "image/png": "[encoded data removed]",
      "text/plain": [
       "<Figure size 432x288 with 1 Axes>"
      ]
     },
     "metadata": {
      "needs_background": "light"
     },
     "output_type": "display_data"
    }
   ],
   "source": [
    "plt.plot(a,normalized)\n",
    "plt.show()"
   ]
  },
  {
   "cell_type": "code",
   "execution_count": null,
   "metadata": {},
   "outputs": [],
   "source": []
  }
 ],
 "metadata": {
  "kernelspec": {
   "display_name": "Python 3",
   "language": "python",
   "name": "python3"
  },
  "language_info": {
   "codemirror_mode": {
    "name": "ipython",
    "version": 3
   },
   "file_extension": ".py",
   "mimetype": "text/x-python",
   "name": "python",
   "nbconvert_exporter": "python",
   "pygments_lexer": "ipython3",
   "version": "3.6.6"
  }
 },
 "nbformat": 4,
 "nbformat_minor": 4
}
